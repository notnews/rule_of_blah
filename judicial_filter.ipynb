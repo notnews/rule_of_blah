{
 "cells": [
  {
   "cell_type": "code",
   "execution_count": 1,
   "id": "8c2524fa-913f-4c59-b10a-c9eef869d264",
   "metadata": {},
   "outputs": [],
   "source": [
    "import pandas as pd\n",
    "import re\n",
    "from tqdm.auto import tqdm"
   ]
  },
  {
   "cell_type": "code",
   "execution_count": 2,
   "id": "4b77b8d5-f61e-4943-9cec-1cfd1bd60de1",
   "metadata": {},
   "outputs": [
    {
     "data": {
      "text/plain": [
       "Index(['url', 'channel.name', 'program.name', 'uid', 'duration', 'year',\n",
       "       'month', 'date', 'time', 'timezone', 'path', 'wordcount', 'subhead',\n",
       "       'text'],\n",
       "      dtype='object')"
      ]
     },
     "execution_count": 2,
     "metadata": {},
     "output_type": "execute_result"
    }
   ],
   "source": [
    "df = pd.read_csv(\"cnn-8.csv.gz\", compression='gzip')\n",
    "df.columns"
   ]
  },
  {
   "cell_type": "code",
   "execution_count": 22,
   "id": "c34be4c3-8e3e-47e0-9aae-5d9bedc56db8",
   "metadata": {},
   "outputs": [],
   "source": [
    "import re\n",
    "import pandas as pd\n",
    "\n",
    "def create_federal_judge_patterns():\n",
    "    \"\"\"\n",
    "    Create comprehensive regex patterns for detecting mentions of federal judge types.\n",
    "    \n",
    "    Returns:\n",
    "    --------\n",
    "    list: Regex patterns for different federal judge types\n",
    "    \"\"\"\n",
    "    federal_judge_patterns = [\n",
    "        # Supreme Court Justices\n",
    "        r'\\b(Supreme Court\\s+Justice(s)?)\\b',\n",
    "        r'\\b(Supreme Court\\s+Judge(s)?)\\b',\n",
    "        \n",
    "        # Circuit Court Judges\n",
    "        r'\\b(Circuit Court\\s+Judge(s)?)\\b',\n",
    "        r'\\b(Appellate Court\\s+Judge(s)?)\\b',\n",
    "        r'\\b(Federal\\s+Appellate\\s+Judge(s)?)\\b',\n",
    "        \n",
    "        # District Court Judges\n",
    "        r'\\b(District Court\\s+Judge(s)?)\\b',\n",
    "        r'\\b(Federal\\s+District\\s+Judge(s)?)\\b',\n",
    "        \n",
    "        # Specialized Courts\n",
    "        r'\\b(Court of International Trade\\s+Judge(s)?)\\b',\n",
    "        r'\\b(Court of Federal Claims\\s+Judge(s)?)\\b',\n",
    "        \n",
    "        # Bankruptcy Judges\n",
    "        r'\\b(Bankruptcy\\s+Judge(s)?)\\b',\n",
    "        \n",
    "        # Magistrate Judges\n",
    "        r'\\b(Magistrate\\s+Judge(s)?)\\b'\n",
    "    ]\n",
    "    \n",
    "    return [re.compile(pattern, re.IGNORECASE) for pattern in federal_judge_patterns]\n",
    "\n",
    "def filter_federal_judge_articles(df, text_column='text'):\n",
    "    \"\"\"\n",
    "    Filter articles mentioning specific types of federal judges.\n",
    "    \n",
    "    Parameters:\n",
    "    -----------\n",
    "    df : pandas.DataFrame\n",
    "        Input DataFrame containing text data\n",
    "    text_column : str, optional\n",
    "        Name of the column containing text (default is 'text')\n",
    "    \n",
    "    Returns:\n",
    "    --------\n",
    "    tuple: (filtered DataFrame, filtering statistics)\n",
    "    \"\"\"\n",
    "    # Create federal judge patterns\n",
    "    federal_judge_patterns = create_federal_judge_patterns()\n",
    "    \n",
    "    def detect_federal_judge_type(text):\n",
    "        \"\"\"\n",
    "        Detect and return matched federal judge types in the text.\n",
    "        \"\"\"\n",
    "        if not isinstance(text, str):\n",
    "            return []\n",
    "        \n",
    "        matched_types = []\n",
    "        for pattern in federal_judge_patterns:\n",
    "            matches = pattern.findall(text)\n",
    "            if matches:\n",
    "                matched_types.extend(matches)\n",
    "        \n",
    "        return list(set(matched_types))\n",
    "    \n",
    "    # Apply federal judge type detection\n",
    "    df['federal_judge_types'] = df[text_column].apply(detect_federal_judge_type)\n",
    "    \n",
    "    # Filter to articles mentioning federal judge types\n",
    "    federal_judge_df = df[df['federal_judge_types'].apply(len) > 0].copy()\n",
    "    \n",
    "    # Prepare filtering statistics\n",
    "    filtering_stats = {\n",
    "        'total_articles': len(df),\n",
    "        'federal_judge_articles': len(federal_judge_df),\n",
    "        'federal_judge_type_breakdown': (\n",
    "            federal_judge_df['federal_judge_types']\n",
    "            .explode()\n",
    "            .value_counts()\n",
    "            .to_dict()\n",
    "        )\n",
    "    }\n",
    "    \n",
    "    return federal_judge_df, filtering_stats\n",
    "\n",
    "\n",
    "judicial_df, stats = filter_federal_judge_articles(df, text_column='text')"
   ]
  },
  {
   "cell_type": "code",
   "execution_count": 23,
   "id": "4ac17ed6-eb3c-4159-8e41-68d9f5856989",
   "metadata": {},
   "outputs": [
    {
     "data": {
      "text/plain": [
       "(2955, 15)"
      ]
     },
     "execution_count": 23,
     "metadata": {},
     "output_type": "execute_result"
    }
   ],
   "source": [
    "judicial_df.shape"
   ]
  },
  {
   "cell_type": "code",
   "execution_count": null,
   "id": "9bed0d09-f8b7-4b08-8cbf-e7ce5c4e0e4a",
   "metadata": {},
   "outputs": [],
   "source": [
    "judicial_df.to_csv(\"judicial_articles.csv\", index=False)"
   ]
  },
  {
   "cell_type": "code",
   "execution_count": 71,
   "id": "9faf96b9-9804-4bf0-9a5d-6296263c7eee",
   "metadata": {},
   "outputs": [],
   "source": [
    "import re\n",
    "import pandas as pd\n",
    "\n",
    "def analyze_judicial_political_context(judicial_df, text_column='text'):\n",
    "    presidents = ['Biden', 'Trump', 'Obama', 'Bush', 'Clinton', 'Reagan', 'Carter']\n",
    "    \n",
    "    patterns = [\n",
    "        (r'\\b(appointed by|nominated by|selected by)\\s+((?:President\\s+)?(?:Biden|Trump|Obama|Bush|Clinton|Reagan|Carter))\\b', 'appointment'),\n",
    "        (r'\\b(Democrat|Republican|GOP)\\s+(nominated|supported)\\s+(judge|justice)\\b', 'party'),\n",
    "        (r'\\b(liberal|conservative|progressive|originalist|textualist)\\s+(judicial?\\s+)?(?:judge|justice|interpretation)\\b', 'ideology'),\n",
    "        (r'\\b((?:Biden|Trump|Obama|Bush|Clinton|Reagan|Carter)\\s+administration(\\'s)?)\\s+(judicial\\s+)?nomination(s)?\\b', 'administration'),\n",
    "        (r'\\b(Senate\\s+confirmation)\\s+of\\s+(judicial\\s+)?nominee(s)?\\b', 'selection')\n",
    "    ]\n",
    "    \n",
    "    compiled_patterns = []\n",
    "    for pattern, category in patterns:\n",
    "        compiled_pattern = re.compile(pattern, re.IGNORECASE)\n",
    "        compiled_patterns.append((compiled_pattern, category))\n",
    "    \n",
    "    def extract_political_context(text):\n",
    "        context = {}\n",
    "        if not isinstance(text, str):\n",
    "            return context\n",
    "        \n",
    "        for pattern, category in compiled_patterns:\n",
    "            matches = pattern.findall(text)\n",
    "            if matches:\n",
    "                context[category] = {\n",
    "                    'matches': matches,\n",
    "                    'category': f'{category}_context'\n",
    "                }\n",
    "        \n",
    "        return context\n",
    "    \n",
    "    def extract_presidents(context_dict):\n",
    "        found_presidents = set()\n",
    "        if not context_dict:\n",
    "            return []\n",
    "        \n",
    "        for context_info in context_dict.values():\n",
    "            for match in context_info.get('matches', []):\n",
    "                for name in presidents:\n",
    "                    if any(name.lower() in str(m).lower() for m in match):\n",
    "                        found_presidents.add(name)\n",
    "        \n",
    "        return list(found_presidents)\n",
    "    \n",
    "    judicial_df['political_context'] = judicial_df[text_column].apply(extract_political_context)\n",
    "    judicial_df['has_political_context'] = judicial_df['political_context'].apply(bool)\n",
    "    judicial_df['mentioned_presidents'] = judicial_df['political_context'].apply(extract_presidents)\n",
    "    \n",
    "    political_context_stats = {\n",
    "        'total_judicial_articles': len(judicial_df),\n",
    "        'articles_with_political_context': len(judicial_df[judicial_df['has_political_context']]),\n",
    "        'president_mentions': judicial_df['mentioned_presidents'].explode().value_counts().to_dict()\n",
    "    }\n",
    "    \n",
    "    return judicial_df, political_context_stats"
   ]
  },
  {
   "cell_type": "code",
   "execution_count": 72,
   "id": "96e12ea0-e717-4843-a1fd-6f3b491fda3b",
   "metadata": {},
   "outputs": [
    {
     "name": "stdout",
     "output_type": "stream",
     "text": [
      "Articles with Political Context:\n",
      "                                                    text mentioned_presidents  \\\n",
      "295    [21:00:00] JOHN BERMAN, CNN HOST: According to...                   []   \n",
      "799    [12:30:00] JOHN KING, CNN HOST: And so to that...                   []   \n",
      "913    (COMMERCIAL BREAK) [10:00:00] JIM SCIUTTO, CNN...                   []   \n",
      "939    JAMES CLAPPER, FORMER DIRECTOR OF NATIONAL INT...                   []   \n",
      "1865   [18:00:03] WOLF BLITZER, CNN HOST: Russia's as...                   []   \n",
      "...                                                  ...                  ...   \n",
      "42472  ERIN BURNETT, CNN HOST: Thank you. ADRIAN SIMA...              [Biden]   \n",
      "42688  [18:00:00] WOLF BLITZER, CNN ANCHOR:  Happenin...              [Trump]   \n",
      "42765  [18:00:00] JAKE TAPPER, CNN ANCHOR:  -- March ...                   []   \n",
      "42981  KAREN FINNEY, CNN POLITICAL COMMENTATOR:  -- c...                   []   \n",
      "43335  JAKE TAPPER, CNN HOST: Welcome to The Lead. I'...                   []   \n",
      "\n",
      "                                       political_context  \n",
      "295    {'ideology': {'matches': [('liberal', '')], 'c...  \n",
      "799    {'ideology': {'matches': [('liberal', '')], 'c...  \n",
      "913    {'ideology': {'matches': [('liberal', ''), ('l...  \n",
      "939    {'ideology': {'matches': [('conservative', '')...  \n",
      "1865   {'ideology': {'matches': [('liberal', '')], 'c...  \n",
      "...                                                  ...  \n",
      "42472  {'appointment': {'matches': [('appointed by', ...  \n",
      "42688  {'appointment': {'matches': [('appointed by', ...  \n",
      "42765  {'ideology': {'matches': [('liberal', '')], 'c...  \n",
      "42981  {'ideology': {'matches': [('liberal', '')], 'c...  \n",
      "43335  {'ideology': {'matches': [('conservative', '')...  \n",
      "\n",
      "[170 rows x 3 columns]\n"
     ]
    }
   ],
   "source": [
    "judicial_df_with_context, political_stats = analyze_judicial_political_context(judicial_df)\n",
    "    \n",
    "    # Display results\n",
    "print(\"Articles with Political Context:\")\n",
    "context_df = judicial_df_with_context[judicial_df_with_context['has_political_context']]\n",
    "print(context_df[['text', 'mentioned_presidents', 'political_context']])"
   ]
  },
  {
   "cell_type": "code",
   "execution_count": 73,
   "id": "b0d5347d-e8aa-44fd-ab67-f2d9da61a5ca",
   "metadata": {},
   "outputs": [
    {
     "name": "stdout",
     "output_type": "stream",
     "text": [
      "\n",
      "Political Context Statistics:\n",
      "total_judicial_articles: 2955\n",
      "articles_with_political_context: 170\n",
      "president_mentions: {'Trump': 59, 'Biden': 6, 'Obama': 4, 'Reagan': 2, 'Bush': 1, 'Carter': 1}\n"
     ]
    }
   ],
   "source": [
    "print(\"\\nPolitical Context Statistics:\")\n",
    "for key, value in political_stats.items():\n",
    "    print(f\"{key}: {value}\")"
   ]
  },
  {
   "cell_type": "code",
   "execution_count": 74,
   "id": "cee35c36-a139-477c-99c3-802a77f8facc",
   "metadata": {},
   "outputs": [
    {
     "data": {
      "text/plain": [
       "Index(['url', 'channel.name', 'program.name', 'uid', 'duration', 'year',\n",
       "       'month', 'date', 'time', 'timezone', 'path', 'wordcount', 'subhead',\n",
       "       'text', 'federal_judge_types', 'political_context',\n",
       "       'has_political_context', 'mentioned_presidents'],\n",
       "      dtype='object')"
      ]
     },
     "execution_count": 74,
     "metadata": {},
     "output_type": "execute_result"
    }
   ],
   "source": [
    "judicial_df_with_context.columns"
   ]
  },
  {
   "cell_type": "code",
   "execution_count": 75,
   "id": "ec8e26c7-35ed-4c5e-a52f-ce1df6f6a4a0",
   "metadata": {},
   "outputs": [],
   "source": [
    "presidential_judicial_df = judicial_df[judicial_df['mentioned_presidents'].apply(len) > 0].copy()"
   ]
  },
  {
   "cell_type": "code",
   "execution_count": 76,
   "id": "654785ec-d4bc-4d36-b9e0-9c287a3d72cb",
   "metadata": {},
   "outputs": [
    {
     "data": {
      "text/plain": [
       "(71,)"
      ]
     },
     "execution_count": 76,
     "metadata": {},
     "output_type": "execute_result"
    }
   ],
   "source": [
    "presidential_judicial_df['mentioned_presidents'].shape"
   ]
  }
 ],
 "metadata": {
  "kernelspec": {
   "display_name": "Python 3.11 (Data Science)",
   "language": "python",
   "name": "py311ds"
  },
  "language_info": {
   "codemirror_mode": {
    "name": "ipython",
    "version": 3
   },
   "file_extension": ".py",
   "mimetype": "text/x-python",
   "name": "python",
   "nbconvert_exporter": "python",
   "pygments_lexer": "ipython3",
   "version": "3.11.11"
  }
 },
 "nbformat": 4,
 "nbformat_minor": 5
}
